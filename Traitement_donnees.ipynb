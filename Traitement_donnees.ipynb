{
 "cells": [
  {
   "cell_type": "code",
   "execution_count": 1111,
   "metadata": {},
   "outputs": [
    {
     "output_type": "stream",
     "name": "stdout",
     "text": "Wall time: 0 ns\n"
    }
   ],
   "source": [
    "%%time\n",
    "import requests\n",
    "from bs4 import BeautifulSoup\n",
    "import pandas as pd\n",
    "import numpy as np\n",
    "import time\n",
    "from IPython.display import clear_output\n",
    "import matplotlib.pyplot as plt\n",
    "import seaborn as sns\n",
    "import re"
   ]
  },
  {
   "cell_type": "code",
   "execution_count": 1112,
   "metadata": {},
   "outputs": [],
   "source": [
    "# data = pd.read_csv(r'C:\\Users\\utilisateur\\OneDrive\\Documents\\Mlearning\\Brief_emploi\\indeed.csv')\n",
    "# data = pd.read_csv(r'C:\\Users\\ThinkCentre\\OneDrive\\Documents\\Mlearning\\Brief_emploi\\indeed.csv')\n",
    "data = pd.read_csv(r'C:\\Users\\utilisateur\\OneDrive\\Documents\\Mlearning\\Brief_emploi\\new_data.csv')\n",
    "# data = pd.read_csv(r'C:\\Users\\ThinkCentre\\OneDrive\\Documents\\Mlearning\\Brief_emploi\\data.csv')"
   ]
  },
  {
   "cell_type": "code",
   "execution_count": 1113,
   "metadata": {},
   "outputs": [],
   "source": [
    "data.rename(columns={'lien': 'Url', 'poste': 'Poste', 'entreprise':'Company', 'contrat':'Contrat','lieu':'Lieu','salaire':'Salaire','publication':'Date','description':'Description'}, inplace=True)"
   ]
  },
  {
   "cell_type": "code",
   "execution_count": 1114,
   "metadata": {},
   "outputs": [],
   "source": [
    "df = data.copy()"
   ]
  },
  {
   "cell_type": "markdown",
   "metadata": {},
   "source": [
    "## Création de deux dataset avec et sans salaires"
   ]
  },
  {
   "cell_type": "code",
   "execution_count": 1115,
   "metadata": {},
   "outputs": [],
   "source": [
    "df_test = df.loc[df['Salaire'] == 'false']\n",
    "df = df.loc[df['Salaire'] != 'false']\n",
    "df.replace(value=np.NaN, to_replace='false', inplace=True, regex=True)"
   ]
  },
  {
   "cell_type": "code",
   "execution_count": 1116,
   "metadata": {},
   "outputs": [
    {
     "output_type": "execute_result",
     "data": {
      "text/plain": "_id                  0.000000\nUrl                  0.000000\nPoste                0.000000\nCompany              0.000000\nLieu                 0.000000\nSalaire              0.000000\nDate                 0.000000\nDescription          0.000000\nContrat              0.099111\ncontrat_recherche    0.354511\nmetier_recherche     0.354511\nville_recherche      0.354511\ndtype: float64"
     },
     "metadata": {},
     "execution_count": 1116
    }
   ],
   "source": [
    "(df.isna().sum()/df.shape[0]).sort_values(ascending=True)"
   ]
  },
  {
   "cell_type": "code",
   "execution_count": 1117,
   "metadata": {},
   "outputs": [
    {
     "output_type": "execute_result",
     "data": {
      "text/plain": "_id                     0\nUrl                     0\nPoste                   0\nCompany                 0\nContrat                 0\nLieu                    0\nSalaire                 0\nDate                    0\nDescription             0\ncontrat_recherche    2252\nmetier_recherche     2252\nville_recherche      2252\ndtype: int64"
     },
     "metadata": {},
     "execution_count": 1117
    }
   ],
   "source": [
    "df_test.isna().sum()"
   ]
  },
  {
   "cell_type": "code",
   "execution_count": 1118,
   "metadata": {},
   "outputs": [
    {
     "output_type": "execute_result",
     "data": {
      "text/plain": "_id                    0\nUrl                    0\nPoste                  0\nCompany                0\nContrat              156\nLieu                   0\nSalaire                0\nDate                   0\nDescription            0\ncontrat_recherche    558\nmetier_recherche     558\nville_recherche      558\ndtype: int64"
     },
     "metadata": {},
     "execution_count": 1118
    }
   ],
   "source": [
    "df.isna().sum()"
   ]
  },
  {
   "cell_type": "markdown",
   "metadata": {},
   "source": [
    "## Nettoyage des différentes colonnes du dataset train"
   ]
  },
  {
   "cell_type": "markdown",
   "metadata": {},
   "source": [
    "## Contrats"
   ]
  },
  {
   "cell_type": "code",
   "execution_count": 1119,
   "metadata": {},
   "outputs": [
    {
     "output_type": "execute_result",
     "data": {
      "text/plain": "Temps plein, CDI                                615\nCDI                                             480\nTemps plein, Temps partiel, CDI                   5\nTemps plein, Freelance / Indépendant, CDI         2\nStage, CDI                                        1\nTemps plein, CDD, CDI                             1\nCDD, CDI, Apprentissage, Contrat pro              1\nTemps plein, CDI, Apprentissage, Contrat pro      1\nTemps partiel, CDI                                1\nIntérim, CDD, CDI                                 1\nFreelance / Indépendant, CDI                      1\nName: Contrat, dtype: int64"
     },
     "metadata": {},
     "execution_count": 1119
    }
   ],
   "source": [
    "df['Contrat'][df.Contrat.str.contains('CDI', regex= True, na=True)].value_counts()"
   ]
  },
  {
   "cell_type": "code",
   "execution_count": 1120,
   "metadata": {},
   "outputs": [],
   "source": [
    "df['Contrat'].replace(value='Contrat pro', to_replace='.*(Contrat pro)(.)*', inplace=True, regex=True)"
   ]
  },
  {
   "cell_type": "code",
   "execution_count": 1121,
   "metadata": {},
   "outputs": [],
   "source": [
    "df['Contrat'].replace(value='Stage', to_replace='.*(Stage)(.)*', inplace=True, regex=True)"
   ]
  },
  {
   "cell_type": "code",
   "execution_count": 1122,
   "metadata": {},
   "outputs": [],
   "source": [
    "df['Contrat'].replace(value='Freelance / Indépendant', to_replace='.*(Freelance / Indépendant)(.)*', inplace=True, regex=True)"
   ]
  },
  {
   "cell_type": "code",
   "execution_count": 1123,
   "metadata": {},
   "outputs": [],
   "source": [
    "df['Contrat'].replace(value='Intérim', to_replace='.*(Intérim)(.)*', inplace=True, regex=True)"
   ]
  },
  {
   "cell_type": "code",
   "execution_count": 1124,
   "metadata": {},
   "outputs": [],
   "source": [
    "df['Contrat'].replace(value='CDD', to_replace='.*(CDD)(.)*', inplace=True, regex=True)"
   ]
  },
  {
   "cell_type": "code",
   "execution_count": 1125,
   "metadata": {},
   "outputs": [],
   "source": [
    "df['Contrat'].replace(value='CDI', to_replace='.*(CDI)(.)*', inplace=True, regex=True)"
   ]
  },
  {
   "cell_type": "code",
   "execution_count": 1126,
   "metadata": {},
   "outputs": [],
   "source": [
    "df['Contrat'].replace(value='Apprentissage', to_replace='.*(Apprentissage)(.)*', inplace=True, regex=True)"
   ]
  },
  {
   "cell_type": "code",
   "execution_count": 1127,
   "metadata": {},
   "outputs": [],
   "source": [
    "df['Contrat'].replace(value='Temps partiel', to_replace='.*(Temps partiel)(.)*', inplace=True, regex=True)"
   ]
  },
  {
   "cell_type": "code",
   "execution_count": 1128,
   "metadata": {},
   "outputs": [],
   "source": [
    "# df['Contrat'][df.Contrat.str.contains('CDD', regex= True, na=False)].value_counts()"
   ]
  },
  {
   "cell_type": "code",
   "execution_count": 1129,
   "metadata": {},
   "outputs": [],
   "source": [
    "df['Contrat'].replace(value='Autres', to_replace=np.NaN, inplace=True, regex=True)"
   ]
  },
  {
   "cell_type": "code",
   "execution_count": 1130,
   "metadata": {},
   "outputs": [],
   "source": [
    "df['contrat_recherche'].replace(value='Autres', to_replace=np.NaN, inplace=True, regex=True)"
   ]
  },
  {
   "cell_type": "code",
   "execution_count": 1131,
   "metadata": {},
   "outputs": [
    {
     "output_type": "execute_result",
     "data": {
      "text/plain": "CDI                        1101\nFreelance / Indépendant     158\nAutres                      156\nStage                        80\nCDD                          30\nIntérim                      27\nContrat pro                  11\nApprentissage                 8\nTemps partiel                 3\nName: Contrat, dtype: int64"
     },
     "metadata": {},
     "execution_count": 1131
    }
   ],
   "source": [
    "df.Contrat.value_counts()"
   ]
  },
  {
   "cell_type": "markdown",
   "metadata": {},
   "source": [
    "## Postes"
   ]
  },
  {
   "cell_type": "code",
   "execution_count": 1132,
   "metadata": {},
   "outputs": [],
   "source": [
    "liste_postes = data['Poste']\n",
    "for k in range(len(liste_postes)) :\n",
    "    if (\"develop\" in liste_postes[k].lower() or \"dévelop\" in liste_postes[k].lower() or \"devop\" in liste_postes[k].lower()\n",
    "    or \"python\" in liste_postes[k].lower() or \"java\" in liste_postes[k].lower() or \"tech\" in liste_postes[k].lower()\n",
    "    or \"master\" in liste_postes[k].lower() or \"web\" in liste_postes[k].lower()) :\n",
    "\n",
    "        liste_postes[k] = \"Developpeur\"\n",
    "\n",
    "    elif (\"analy\" in liste_postes[k].lower() or \"sql\" in liste_postes[k].lower() or \"big\" in liste_postes[k].lower()) :\n",
    "\n",
    "        liste_postes[k] = \"Data Analyst\"\n",
    "\n",
    "    elif (\"scien\" in liste_postes[k].lower() or \"engineer\" in liste_postes[k].lower() or \"ingé\" in liste_postes[k].lower()\n",
    "    or \"inge\" in liste_postes[k].lower() or \"archi\" in liste_postes[k].lower()) :\n",
    "\n",
    "        liste_postes[k] = \"Data Scientist\"\n",
    "\n",
    "    elif (\"business\" in liste_postes[k].lower() or \"intell\" in liste_postes[k].lower() or \"market\" in liste_postes[k].lower()\n",
    "    or \"consult\" in liste_postes[k].lower() or \"product\" in liste_postes[k].lower() or \"manag\" in liste_postes[k].lower()\n",
    "    or \"comm\" in liste_postes[k].lower()) :\n",
    "\n",
    "        liste_postes[k] = \"Business Intelligence\"\n",
    "    \n",
    "    else :\n",
    "\n",
    "        liste_postes[k] = \"Autre\"\n"
   ]
  },
  {
   "cell_type": "code",
   "execution_count": 1133,
   "metadata": {},
   "outputs": [],
   "source": [
    "df['Poste'] = liste_postes"
   ]
  },
  {
   "cell_type": "markdown",
   "metadata": {},
   "source": [
    "## Metier_recherche"
   ]
  },
  {
   "cell_type": "code",
   "execution_count": 1134,
   "metadata": {},
   "outputs": [],
   "source": [
    "df['metier_recherche'].replace(value='Autres', to_replace=np.NaN, inplace=True, regex=True)"
   ]
  },
  {
   "cell_type": "markdown",
   "metadata": {},
   "source": [
    "## Salaires"
   ]
  },
  {
   "cell_type": "markdown",
   "metadata": {},
   "source": [
    "### Création de 3 colonnes : Salaire min, max , mean"
   ]
  },
  {
   "cell_type": "code",
   "execution_count": 1135,
   "metadata": {},
   "outputs": [],
   "source": [
    "df['Salaire_min'] = df['Salaire']\n",
    "df['Salaire_max'] = df['Salaire']\n",
    "df['Salaire_mean'] = 0"
   ]
  },
  {
   "cell_type": "markdown",
   "metadata": {},
   "source": [
    "### Nettoyage des 3 colonnes"
   ]
  },
  {
   "cell_type": "code",
   "execution_count": 1136,
   "metadata": {},
   "outputs": [],
   "source": [
    "df['Salaire_min'].replace(value='', to_replace=r'(par|mois|moi|€|an|jour|heure|semaine|\\s)', inplace=True, regex=True)\n",
    "df['Salaire_max'].replace(value='', to_replace=r'(par|mois|moi|€|an|jour|heure|semaine|\\s)', inplace=True, regex=True)"
   ]
  },
  {
   "cell_type": "code",
   "execution_count": 1137,
   "metadata": {},
   "outputs": [],
   "source": [
    "df['Salaire_min'].replace(value='', to_replace=r'(\\-[0-9]*$)', inplace=True, regex=True)"
   ]
  },
  {
   "cell_type": "code",
   "execution_count": 1138,
   "metadata": {},
   "outputs": [],
   "source": [
    "df['Salaire_max'].replace(value='', to_replace=r'(^[0-9]*[\\-])', inplace=True, regex=True)"
   ]
  },
  {
   "cell_type": "code",
   "execution_count": 1139,
   "metadata": {},
   "outputs": [],
   "source": [
    "liste_min = df['Salaire_min'].value_counts()"
   ]
  },
  {
   "cell_type": "code",
   "execution_count": 1140,
   "metadata": {},
   "outputs": [],
   "source": [
    "df.drop(df[df.Salaire_min == '{0}{2}'].index, inplace=True)\n",
    "# df.drop(df[df.Salaire_min == '800-1000semaine'].index, inplace=True)\n",
    "df.drop(df[df.Salaire_min == '24,72'].index, inplace=True)\n",
    "df.drop(df[df.Salaire_min == '13,18'].index, inplace=True)\n",
    "df.drop(df[df.Salaire_min == '20,88'].index, inplace=True)"
   ]
  },
  {
   "cell_type": "markdown",
   "metadata": {},
   "source": [
    "### Modification pour ramener les salaires par an"
   ]
  },
  {
   "cell_type": "code",
   "execution_count": 1141,
   "metadata": {
    "tags": [
     "outputPrepend"
    ]
   },
   "outputs": [],
   "source": [
    "for i,j in enumerate(df['Salaire']):\n",
    "    j = str(j)\n",
    "    \n",
    "    if re.search(r'mois', j):\n",
    "        a=df['Salaire_min'].iloc[i] \n",
    "        a = int(a)\n",
    "        a=(a*12)        \n",
    "        df['Salaire_min'].iloc[i] = a\n",
    "        \n",
    "        "
   ]
  },
  {
   "cell_type": "code",
   "execution_count": 1142,
   "metadata": {},
   "outputs": [],
   "source": [
    "for i,j in enumerate(df['Salaire']):\n",
    "    j = str(j)\n",
    "    \n",
    "    if re.search(r'jour', j):\n",
    "        a=df['Salaire_min'].iloc[i] \n",
    "        a = int(a)\n",
    "        a=(a*228)        \n",
    "        df['Salaire_min'].iloc[i] = a"
   ]
  },
  {
   "cell_type": "code",
   "execution_count": 1143,
   "metadata": {},
   "outputs": [],
   "source": [
    "for i,j in enumerate(df['Salaire']):\n",
    "    j = str(j)\n",
    "    \n",
    "    if re.search(r'heure', j):\n",
    "        a=df['Salaire_min'].iloc[i] \n",
    "        a = int(a)\n",
    "        a=(a*1600)        \n",
    "        df['Salaire_min'].iloc[i] = a"
   ]
  },
  {
   "cell_type": "code",
   "execution_count": 1144,
   "metadata": {},
   "outputs": [],
   "source": [
    "for i,j in enumerate(df['Salaire']):\n",
    "    j = str(j)\n",
    "    \n",
    "    if re.search(r'semaine', j):\n",
    "        a=df['Salaire_min'].iloc[i] \n",
    "        a = int(a)\n",
    "        a=(a*46)        \n",
    "        df['Salaire_min'].iloc[i] = a"
   ]
  },
  {
   "cell_type": "code",
   "execution_count": 1145,
   "metadata": {},
   "outputs": [],
   "source": [
    "for i,j in enumerate(df['Salaire']):\n",
    "    j = str(j)\n",
    "    \n",
    "    if re.search(r'mois', j):\n",
    "        a=df['Salaire_max'].iloc[i] \n",
    "        a = int(a)\n",
    "        a=(a*12)        \n",
    "        df['Salaire_max'].iloc[i] = a"
   ]
  },
  {
   "cell_type": "code",
   "execution_count": 1146,
   "metadata": {},
   "outputs": [],
   "source": [
    "for i,j in enumerate(df['Salaire']):\n",
    "    j = str(j)\n",
    "    \n",
    "    if re.search(r'jour', j):\n",
    "        a=df['Salaire_max'].iloc[i] \n",
    "        a = int(a)\n",
    "        a=(a*228)        \n",
    "        df['Salaire_max'].iloc[i] = a"
   ]
  },
  {
   "cell_type": "code",
   "execution_count": 1147,
   "metadata": {},
   "outputs": [],
   "source": [
    "for i,j in enumerate(df['Salaire']):\n",
    "    j = str(j)\n",
    "    \n",
    "    if re.search(r'heure', j):\n",
    "        a=df['Salaire_max'].iloc[i] \n",
    "        a = int(a)\n",
    "        a=(a*1600)        \n",
    "        df['Salaire_max'].iloc[i] = a"
   ]
  },
  {
   "cell_type": "code",
   "execution_count": 1148,
   "metadata": {},
   "outputs": [],
   "source": [
    "for i,j in enumerate(df['Salaire']):\n",
    "    j = str(j)\n",
    "    \n",
    "    if re.search(r'semaine', j):\n",
    "        a=df['Salaire_max'].iloc[i] \n",
    "        a = int(a)\n",
    "        a=(a*46)        \n",
    "        df['Salaire_max'].iloc[i] = a"
   ]
  },
  {
   "cell_type": "markdown",
   "metadata": {},
   "source": [
    "### Remplissage de la colonne mean"
   ]
  },
  {
   "cell_type": "code",
   "execution_count": 1149,
   "metadata": {
    "tags": [
     "outputPrepend"
    ]
   },
   "outputs": [],
   "source": [
    "for i,j in enumerate(zip(df['Salaire_min'], df['Salaire_max'])):\n",
    "\n",
    "    a = (int(j[0]) + int(j[1]))/2\n",
    "    df['Salaire_mean'].iloc[i] = a"
   ]
  },
  {
   "cell_type": "markdown",
   "metadata": {},
   "source": [
    "## Date"
   ]
  },
  {
   "cell_type": "code",
   "execution_count": 1150,
   "metadata": {},
   "outputs": [],
   "source": [
    "df['Date'].replace(value='1', to_replace=\".*(Aujourd'hui)(.)*\", inplace=True, regex=True)"
   ]
  },
  {
   "cell_type": "code",
   "execution_count": 1151,
   "metadata": {},
   "outputs": [],
   "source": [
    "df['Date'].replace(value='', to_replace=\"[a-zA-Z éà']\", inplace=True, regex=True)"
   ]
  },
  {
   "cell_type": "code",
   "execution_count": 1152,
   "metadata": {},
   "outputs": [],
   "source": [
    "df['Date'].replace(value='40', to_replace=\"(30\\+)\", inplace=True, regex=True)"
   ]
  },
  {
   "cell_type": "code",
   "execution_count": 1153,
   "metadata": {},
   "outputs": [],
   "source": [
    "df.replace(value=np.NaN, to_replace='', inplace=True, regex=True)"
   ]
  },
  {
   "cell_type": "code",
   "execution_count": 1154,
   "metadata": {},
   "outputs": [],
   "source": [
    "df['Date'].dropna(inplace=True)"
   ]
  },
  {
   "cell_type": "markdown",
   "metadata": {},
   "source": [
    "## Lieu"
   ]
  },
  {
   "cell_type": "code",
   "execution_count": 1155,
   "metadata": {},
   "outputs": [
    {
     "output_type": "execute_result",
     "data": {
      "text/plain": "Paris (75)                    599\nLyon (69)                     142\nNantes (44)                   139\nToulouse (31)                 111\nBoulogne-Billancourt (92)      32\n                             ... \nPierre-Bénite (69)              1\nSaint-Germain-en-Laye (78)      1\nParis 6e (75)                   1\nVillejuif (94)                  1\nSaint-Fons (69)                 1\nName: Lieu, Length: 133, dtype: int64"
     },
     "metadata": {},
     "execution_count": 1155
    }
   ],
   "source": [
    "df.Lieu.value_counts()"
   ]
  },
  {
   "cell_type": "code",
   "execution_count": 1156,
   "metadata": {},
   "outputs": [],
   "source": [
    "for i,j in enumerate(df['Lieu']):\n",
    "    j = str(j)\n",
    "    \n",
    "    if re.search(r'75|92|94|78|93|77|91|95|Île-de-France', j):\n",
    "        # a=df['ville_'].iloc[i]              \n",
    "        df['ville_recherche'].iloc[i] = 'Paris'"
   ]
  },
  {
   "cell_type": "code",
   "execution_count": 1157,
   "metadata": {},
   "outputs": [],
   "source": [
    "for i,j in enumerate(df['Lieu']):\n",
    "    j = str(j)\n",
    "    \n",
    "    if re.search(r'54', j):\n",
    "        # a=df['ville_'].iloc[i]              \n",
    "        df['ville_recherche'].iloc[i] = 'Nancy'"
   ]
  },
  {
   "cell_type": "code",
   "execution_count": 1158,
   "metadata": {},
   "outputs": [],
   "source": [
    "for i,j in enumerate(df['Lieu']):\n",
    "    j = str(j)\n",
    "    \n",
    "    if re.search(r'69', j):\n",
    "        # a=df['ville_'].iloc[i]              \n",
    "        df['ville_recherche'].iloc[i] = 'Lyon'"
   ]
  },
  {
   "cell_type": "code",
   "execution_count": 1159,
   "metadata": {},
   "outputs": [],
   "source": [
    "for i,j in enumerate(df['Lieu']):\n",
    "    j = str(j)\n",
    "    \n",
    "    if re.search(r'31', j):\n",
    "        # a=df['ville_'].iloc[i]              \n",
    "        df['ville_recherche'].iloc[i] = 'Toulouse'"
   ]
  },
  {
   "cell_type": "code",
   "execution_count": 1160,
   "metadata": {},
   "outputs": [],
   "source": [
    "for i,j in enumerate(df['Lieu']):\n",
    "    j = str(j)\n",
    "    \n",
    "    if re.search(r'44', j):\n",
    "        # a=df['ville_'].iloc[i]              \n",
    "        df['ville_recherche'].iloc[i] = 'Nantes'"
   ]
  },
  {
   "cell_type": "code",
   "execution_count": 1161,
   "metadata": {},
   "outputs": [],
   "source": [
    "df['Lieu'].replace(value='Paris', to_replace='.*(Paris)(.)*', inplace=True, regex=True)\n",
    "df['Lieu'].replace(value='Lyon', to_replace='.*(Lyon)(.)*', inplace=True, regex=True)\n",
    "df['Lieu'].replace(value='Bordeau', to_replace='.*(Bordeau)(.)*', inplace=True, regex=True)\n",
    "df['Lieu'].replace(value='Nancy', to_replace='.*(Nancy)(.)*', inplace=True, regex=True)\n",
    "df['Lieu'].replace(value='Nantes', to_replace='.*(Nantes)(.)*', inplace=True, regex=True)\n",
    "df['Lieu'].replace(value='Strasbourg', to_replace='.*(Strasbourg)(.)*', inplace=True, regex=True)\n",
    "df['Lieu'].replace(value='Toulouse', to_replace='.*(Toulouse)(.)*', inplace=True, regex=True)"
   ]
  },
  {
   "cell_type": "code",
   "execution_count": 1162,
   "metadata": {},
   "outputs": [],
   "source": [
    "df['Lieu'].replace(value='', to_replace='[0-9()]', inplace=True, regex=True)"
   ]
  },
  {
   "cell_type": "code",
   "execution_count": 1163,
   "metadata": {},
   "outputs": [
    {
     "output_type": "execute_result",
     "data": {
      "text/plain": "Paris                    761\nLyon                     205\nNantes                   139\nToulouse                 111\nBoulogne-Billancourt      32\n                        ... \nSaint-Genis-Laval          1\nMalakoff                   1\nNogent-sur-Marne           1\nPalaiseau                  1\nCharenton-le-Pont          1\nName: Lieu, Length: 105, dtype: int64"
     },
     "metadata": {},
     "execution_count": 1163
    }
   ],
   "source": [
    "df.Lieu.value_counts()"
   ]
  },
  {
   "cell_type": "markdown",
   "metadata": {},
   "source": [
    "## Transformation de ville recherche en Region"
   ]
  },
  {
   "cell_type": "code",
   "execution_count": 1164,
   "metadata": {},
   "outputs": [],
   "source": [
    "df['ville_recherche'].replace(value='Ile de france', to_replace='Paris', inplace=True, regex=True)\n",
    "df['ville_recherche'].replace(value='Rhône Alpes', to_replace='Lyon', inplace=True, regex=True)\n",
    "df['ville_recherche'].replace(value='Aquitaine', to_replace='Bordeau', inplace=True, regex=True)\n",
    "df['ville_recherche'].replace(value='Lorraine', to_replace='Nancy', inplace=True, regex=True)\n",
    "df['ville_recherche'].replace(value='Pays de Loire', to_replace='Nantes', inplace=True, regex=True)\n",
    "df['ville_recherche'].replace(value='Alsace', to_replace='Strasbourg', inplace=True, regex=True)\n",
    "df['ville_recherche'].replace(value='Midi Pyrénées', to_replace='Toulouse', inplace=True, regex=True)"
   ]
  },
  {
   "cell_type": "code",
   "execution_count": 1165,
   "metadata": {},
   "outputs": [],
   "source": [
    "df.rename(columns={'ville_recherche': 'Region'}, inplace=True)"
   ]
  },
  {
   "cell_type": "markdown",
   "metadata": {},
   "source": [
    "## Création d'une colonne code postal"
   ]
  },
  {
   "cell_type": "code",
   "execution_count": 1166,
   "metadata": {},
   "outputs": [],
   "source": [
    "df['Code_postal'] = df['Region']"
   ]
  },
  {
   "cell_type": "code",
   "execution_count": 1167,
   "metadata": {},
   "outputs": [],
   "source": [
    "df['Code_postal'].replace(value='75000', to_replace='Ile de france', inplace=True, regex=True)\n",
    "df['Code_postal'].replace(value='69000', to_replace='Rhône Alpes', inplace=True, regex=True)\n",
    "df['Code_postal'].replace(value='33000', to_replace='Aquitaine', inplace=True, regex=True)\n",
    "df['Code_postal'].replace(value='54000', to_replace='Lorraine', inplace=True, regex=True)\n",
    "df['Code_postal'].replace(value='44000', to_replace='Pays de Loire', inplace=True, regex=True)\n",
    "df['Code_postal'].replace(value='67000', to_replace='Alsace', inplace=True, regex=True)\n",
    "df['Code_postal'].replace(value='31000', to_replace='Midi Pyrénées', inplace=True, regex=True)"
   ]
  },
  {
   "cell_type": "markdown",
   "metadata": {},
   "source": [
    "## Company"
   ]
  },
  {
   "cell_type": "code",
   "execution_count": 1168,
   "metadata": {},
   "outputs": [],
   "source": [
    "df['Company'].replace(value='', to_replace='\\n', inplace=True, regex=True)"
   ]
  },
  {
   "cell_type": "markdown",
   "metadata": {},
   "source": [
    "## Nettoyage des Na restants"
   ]
  },
  {
   "cell_type": "code",
   "execution_count": 1169,
   "metadata": {},
   "outputs": [
    {
     "output_type": "execute_result",
     "data": {
      "text/plain": "_id                   0\nUrl                   0\nPoste                 0\nCompany               0\nContrat               0\nLieu                  0\nSalaire               0\nDate                 14\nDescription           0\ncontrat_recherche     0\nmetier_recherche      0\nRegion                0\nSalaire_min           0\nSalaire_max           0\nSalaire_mean          0\nCode_postal           0\ndtype: int64"
     },
     "metadata": {},
     "execution_count": 1169
    }
   ],
   "source": [
    "df.isna().sum()"
   ]
  },
  {
   "cell_type": "code",
   "execution_count": 1170,
   "metadata": {},
   "outputs": [],
   "source": [
    "df.dropna(inplace=True)"
   ]
  },
  {
   "cell_type": "markdown",
   "metadata": {},
   "source": [
    "## Sauvegarde du dataset nettoyé"
   ]
  },
  {
   "cell_type": "code",
   "execution_count": 1171,
   "metadata": {},
   "outputs": [],
   "source": [
    "df.to_csv(r'C:\\Users\\utilisateur\\OneDrive\\Documents\\Mlearning\\Brief_emploi\\Emploi.csv', index=False)"
   ]
  },
  {
   "cell_type": "markdown",
   "metadata": {},
   "source": [
    "## Création d'une fonction de nettoyage"
   ]
  },
  {
   "cell_type": "code",
   "execution_count": 1172,
   "metadata": {},
   "outputs": [],
   "source": [
    "def nettoyage_test (df):\n",
    "    \n",
    "    df.replace(value=np.NaN, to_replace='false', inplace=True, regex=True)\n",
    "\n",
    "        \n",
    "    df['Contrat'].replace(value='Contrat pro', to_replace='.*(Contrat pro)(.)*', inplace=True, regex=True)\n",
    "    df['Contrat'].replace(value='Stage', to_replace='.*(Stage)(.)*', inplace=True, regex=True)\n",
    "    df['Contrat'].replace(value='Freelance / Indépendant', to_replace='.*(Freelance / Indépendant)(.)*', inplace=True, regex=True)\n",
    "    df['Contrat'].replace(value='Intérim', to_replace='.*(Intérim)(.)*', inplace=True, regex=True)\n",
    "    df['Contrat'].replace(value='CDD', to_replace='.*(CDD)(.)*', inplace=True, regex=True)\n",
    "    df['Contrat'].replace(value='CDI', to_replace='.*(CDI)(.)*', inplace=True, regex=True)\n",
    "    df['Contrat'].replace(value='Apprentissage', to_replace='.*(Apprentissage)(.)*', inplace=True, regex=True)   \n",
    "    df['Contrat'].replace(value='Temps partiel', to_replace='.*(Temps partiel)(.)*', inplace=True, regex=True)     \n",
    "    df['Contrat'].replace(value='Autres', to_replace=np.NaN, inplace=True, regex=True)\n",
    "    df['contrat_recherche'].replace(value='Autres', to_replace=np.NaN, inplace=True, regex=True)\n",
    "\n",
    "    liste_postes = data['Poste']\n",
    "    for k in range(len(liste_postes)) :\n",
    "        if (\"develop\" in liste_postes[k].lower() or \"dévelop\" in liste_postes[k].lower() or \"devop\" in liste_postes[k].lower()\n",
    "        or \"python\" in liste_postes[k].lower() or \"java\" in liste_postes[k].lower() or \"tech\" in liste_postes[k].lower()\n",
    "        or \"master\" in liste_postes[k].lower() or \"web\" in liste_postes[k].lower()) :\n",
    "\n",
    "            liste_postes[k] = \"Developpeur\"\n",
    "\n",
    "        elif (\"analy\" in liste_postes[k].lower() or \"sql\" in liste_postes[k].lower() or \"big\" in liste_postes[k].lower()) :\n",
    "\n",
    "            liste_postes[k] = \"Data Analyst\"\n",
    "\n",
    "        elif (\"scien\" in liste_postes[k].lower() or \"engineer\" in liste_postes[k].lower() or \"ingé\" in liste_postes[k].lower()\n",
    "        or \"inge\" in liste_postes[k].lower() or \"archi\" in liste_postes[k].lower()) :\n",
    "\n",
    "            liste_postes[k] = \"Data Scientist\"\n",
    "\n",
    "        elif (\"business\" in liste_postes[k].lower() or \"intell\" in liste_postes[k].lower() or \"market\" in liste_postes[k].lower()\n",
    "        or \"consult\" in liste_postes[k].lower() or \"product\" in liste_postes[k].lower() or \"manag\" in liste_postes[k].lower()\n",
    "        or \"comm\" in liste_postes[k].lower()) :\n",
    "\n",
    "            liste_postes[k] = \"Business Intelligence\"\n",
    "        \n",
    "        else :\n",
    "\n",
    "            liste_postes[k] = \"Autre\"\n",
    "\n",
    "    df['Poste'] = liste_postes\n",
    "\n",
    "    df['metier_recherche'].replace(value='Autres', to_replace=np.NaN, inplace=True, regex=True)\n",
    "\n",
    "    df['Date'].replace(value='1', to_replace=\".*(Aujourd'hui)(.)*\", inplace=True, regex=True)\n",
    "    df['Date'].replace(value='', to_replace=\"[a-zA-Z éà']\", inplace=True, regex=True)\n",
    "    df['Date'].replace(value='40', to_replace=\"(30\\+)\", inplace=True, regex=True)\n",
    "\n",
    "    df.replace(value=np.NaN, to_replace='', inplace=True, regex=True)\n",
    "    # df['Date'].dropna(inplace=True)\n",
    "    # df['Contrat'].dropna(inplace=True)\n",
    "\n",
    "    for i,j in enumerate(df['Lieu']):\n",
    "        j = str(j)\n",
    "    \n",
    "        if re.search(r'75|92|94|78|93|77|91|95|Île-de-France', j):\n",
    "            # a=df['ville_'].iloc[i]              \n",
    "            df['ville_recherche'].iloc[i] = 'Paris'\n",
    "    \n",
    "    for i,j in enumerate(df['Lieu']):\n",
    "        j = str(j)\n",
    "    \n",
    "        if re.search(r'54', j):\n",
    "            # a=df['ville_'].iloc[i]              \n",
    "            df['ville_recherche'].iloc[i] = 'Nancy'\n",
    "    \n",
    "    for i,j in enumerate(df['Lieu']):\n",
    "        j = str(j)\n",
    "    \n",
    "        if re.search(r'69', j):\n",
    "            # a=df['ville_'].iloc[i]              \n",
    "            df['ville_recherche'].iloc[i] = 'Lyon'\n",
    "    \n",
    "    for i,j in enumerate(df['Lieu']):\n",
    "        j = str(j)\n",
    "    \n",
    "        if re.search(r'31', j):\n",
    "            # a=df['ville_'].iloc[i]              \n",
    "            df['ville_recherche'].iloc[i] = 'Toulouse'\n",
    "    \n",
    "    for i,j in enumerate(df['Lieu']):\n",
    "        j = str(j)\n",
    "    \n",
    "        if re.search(r'44', j):\n",
    "            # a=df['ville_'].iloc[i]              \n",
    "            df['ville_recherche'].iloc[i] = 'Nantes'\n",
    "    \n",
    "    df['Lieu'].replace(value='Paris', to_replace='.*(Paris)(.)*', inplace=True, regex=True)\n",
    "    df['Lieu'].replace(value='Lyon', to_replace='.*(Lyon)(.)*', inplace=True, regex=True)\n",
    "    df['Lieu'].replace(value='Bordeau', to_replace='.*(Bordeau)(.)*', inplace=True, regex=True)\n",
    "    df['Lieu'].replace(value='Nancy', to_replace='.*(Nancy)(.)*', inplace=True, regex=True)\n",
    "    df['Lieu'].replace(value='Nantes', to_replace='.*(Nantes)(.)*', inplace=True, regex=True)\n",
    "    df['Lieu'].replace(value='Strasbourg', to_replace='.*(Strasbourg)(.)*', inplace=True, regex=True)\n",
    "    df['Lieu'].replace(value='Toulouse', to_replace='.*(Toulouse)(.)*', inplace=True, regex=True)\n",
    "    df['Lieu'].replace(value='', to_replace='[0-9()]', inplace=True, regex=True)\n",
    "\n",
    "    df['ville_recherche'].replace(value='Ile de france', to_replace='Paris', inplace=True, regex=True)\n",
    "    df['ville_recherche'].replace(value='Rhône Alpes', to_replace='Lyon', inplace=True, regex=True)\n",
    "    df['ville_recherche'].replace(value='Aquitaine', to_replace='Bordeau', inplace=True, regex=True)\n",
    "    df['ville_recherche'].replace(value='Lorraine', to_replace='Nancy', inplace=True, regex=True)\n",
    "    df['ville_recherche'].replace(value='Pays de Loire', to_replace='Nantes', inplace=True, regex=True)\n",
    "    df['ville_recherche'].replace(value='Alsace', to_replace='Strasbourg', inplace=True, regex=True)\n",
    "    df['ville_recherche'].replace(value='Midi Pyrénées', to_replace='Toulouse', inplace=True, regex=True)\n",
    "\n",
    "    df.rename(columns={'ville_recherche': 'Region'}, inplace=True)\n",
    "\n",
    "    df['Code_postal'] = df['Region']\n",
    "\n",
    "    df['Code_postal'].replace(value='75000', to_replace='Ile de france', inplace=True, regex=True)\n",
    "    df['Code_postal'].replace(value='69000', to_replace='Rhône Alpes', inplace=True, regex=True)\n",
    "    df['Code_postal'].replace(value='33000', to_replace='Aquitaine', inplace=True, regex=True)\n",
    "    df['Code_postal'].replace(value='54000', to_replace='Lorraine', inplace=True, regex=True)\n",
    "    df['Code_postal'].replace(value='44000', to_replace='Pays de Loire', inplace=True, regex=True)\n",
    "    df['Code_postal'].replace(value='67000', to_replace='Alsace', inplace=True, regex=True)\n",
    "    df['Code_postal'].replace(value='31000', to_replace='Midi Pyrénées', inplace=True, regex=True)\n",
    "\n",
    "    df['Company'].replace(value='', to_replace='\\n', inplace=True, regex=True)\n",
    "\n",
    "    df.drop(columns='Salaire',inplace=True,axis=1)\n",
    "    df.dropna(inplace=True)\n",
    "\n",
    "    df.to_csv(r'C:\\Users\\utilisateur\\OneDrive\\Documents\\Mlearning\\Brief_emploi\\Emploi_test.csv', index=False)\n",
    "\n",
    "    return df\n"
   ]
  },
  {
   "cell_type": "markdown",
   "metadata": {},
   "source": [
    "## Nettoyage du dataset test"
   ]
  },
  {
   "cell_type": "code",
   "execution_count": 1173,
   "metadata": {},
   "outputs": [],
   "source": [
    "test = nettoyage_test(df_test)"
   ]
  },
  {
   "cell_type": "code",
   "execution_count": 1174,
   "metadata": {},
   "outputs": [
    {
     "output_type": "execute_result",
     "data": {
      "text/plain": "_id                  0\nUrl                  0\nPoste                0\nCompany              0\nContrat              0\nLieu                 0\nDate                 0\nDescription          0\ncontrat_recherche    0\nmetier_recherche     0\nRegion               0\nCode_postal          0\ndtype: int64"
     },
     "metadata": {},
     "execution_count": 1174
    }
   ],
   "source": [
    "test.isna().sum()"
   ]
  }
 ],
 "metadata": {
  "language_info": {
   "codemirror_mode": {
    "name": "ipython",
    "version": 3
   },
   "file_extension": ".py",
   "mimetype": "text/x-python",
   "name": "python",
   "nbconvert_exporter": "python",
   "pygments_lexer": "ipython3",
   "version": "3.7.7-final"
  },
  "orig_nbformat": 2,
  "kernelspec": {
   "name": "python3",
   "display_name": "Python 3"
  }
 },
 "nbformat": 4,
 "nbformat_minor": 2
}